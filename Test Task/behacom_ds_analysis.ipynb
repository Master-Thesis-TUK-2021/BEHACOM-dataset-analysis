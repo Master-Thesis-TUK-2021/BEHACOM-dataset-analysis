{
 "metadata": {
  "language_info": {
   "codemirror_mode": {
    "name": "ipython",
    "version": 3
   },
   "file_extension": ".py",
   "mimetype": "text/x-python",
   "name": "python",
   "nbconvert_exporter": "python",
   "pygments_lexer": "ipython3",
   "version": "3.7.7"
  },
  "orig_nbformat": 4,
  "kernelspec": {
   "name": "python3",
   "display_name": "Python 3.7.7 64-bit ('base': conda)"
  },
  "interpreter": {
   "hash": "29513eb8c941558af17317b912b3306c79ce275b3b6810b2605d4aaf040dc121"
  }
 },
 "nbformat": 4,
 "nbformat_minor": 2,
 "cells": [
  {
   "cell_type": "code",
   "execution_count": 2,
   "metadata": {},
   "outputs": [],
   "source": [
    "import numpy as np\n",
    "import pandas as pd\n",
    "from datetime import datetime\n",
    "import plotly.express as px"
   ]
  },
  {
   "cell_type": "code",
   "execution_count": 3,
   "metadata": {},
   "outputs": [
    {
     "output_type": "stream",
     "name": "stdout",
     "text": [
      "(6059, 12051)\n"
     ]
    }
   ],
   "source": [
    "filename=\"User0_behacom.csv\"\n",
    "\n",
    "data_user=pd.read_csv(filename, encoding='latin-1',chunksize=1000)\n",
    "\n",
    "a = next(data_user)\n",
    "dtypes_col = a.dtypes.index\n",
    "dtypes_type = [i.name for i in a.dtypes.values]\n",
    "column_types = dict(zip(dtypes_col, dtypes_type))\n",
    "\n",
    "for k,v in column_types.items():\n",
    "    if k == 'timestamp':\n",
    "        column_types[k] = 'float64'\n",
    "    elif ('average' in k):\n",
    "        column_types[k] = 'float32'\n",
    "    elif ('stddev' in k):\n",
    "        column_types[k] = 'float32'\n",
    "    elif v == 'float64':\n",
    "        column_types[k] = 'float32'\n",
    "    elif v == 'int64':\n",
    "        if (k.startswith('press') or ('counter' in k) or ('usage' in k)):\n",
    "            column_types[k] = 'int8'\n",
    "        else:\n",
    "            column_types[k] = 'int32'\n",
    "\n",
    "\n",
    "data_user=pd.read_csv(filename, encoding='latin-1',dtype=column_types)\n",
    "print(data_user.shape)"
   ]
  },
  {
   "cell_type": "code",
   "execution_count": 62,
   "metadata": {},
   "outputs": [
    {
     "output_type": "stream",
     "name": "stdout",
     "text": [
      "<class 'pandas.core.frame.DataFrame'>\nRangeIndex: 6059 entries, 0 to 6058\nColumns: 12051 entries, timestamp to user\ndtypes: float32(6022), float64(1), int32(138), int8(5888), object(2)\nmemory usage: 176.5+ MB\n"
     ]
    }
   ],
   "source": [
    "data_user.info()"
   ]
  },
  {
   "cell_type": "code",
   "execution_count": 61,
   "metadata": {},
   "outputs": [
    {
     "output_type": "stream",
     "name": "stdout",
     "text": [
      "0   2019-11-20 13:44:15.128\n1   2019-11-20 13:45:18.073\n2   2019-11-20 13:46:18.881\nName: timestamp, dtype: datetime64[ns]\n"
     ]
    }
   ],
   "source": [
    "# data_tmp = data_user[:3]['timestamp'].astype('datetime64[ms]')\n",
    "print(data_tmp)"
   ]
  },
  {
   "cell_type": "code",
   "execution_count": 63,
   "metadata": {},
   "outputs": [],
   "source": [
    "# convert timestamp to datetime and add add as column\n",
    "data_user['date_time'] = data_user[:]['timestamp'].astype('datetime64[ms]')"
   ]
  },
  {
   "cell_type": "code",
   "execution_count": 65,
   "metadata": {},
   "outputs": [
    {
     "output_type": "stream",
     "name": "stdout",
     "text": [
      "<class 'pandas.core.frame.DataFrame'>\nRangeIndex: 6059 entries, 0 to 6058\nColumns: 12052 entries, timestamp to date_time\ndtypes: datetime64[ns](1), float32(6022), float64(1), int32(138), int8(5888), object(2)\nmemory usage: 176.6+ MB\n"
     ]
    },
    {
     "output_type": "execute_result",
     "data": {
      "text/plain": [
       "      timestamp  keystroke_counter  erase_keys_counter  erase_keys_percentage  \\\n",
       "0  1.574257e+12                 14                   2                   0.14   \n",
       "1  1.574258e+12                 37                   3                   0.08   \n",
       "2  1.574258e+12                 24                   0                   0.00   \n",
       "\n",
       "   press_press_average_interval  press_press_stddev_interval  \\\n",
       "0                    200.690002                   165.470001   \n",
       "1                    825.690002                  1842.589966   \n",
       "2                   2399.870117                  5181.549805   \n",
       "\n",
       "   press_release_average_interval  press_release_stddev_interval  \\\n",
       "0                      107.000000                      36.450001   \n",
       "1                      132.679993                      96.690002   \n",
       "2                      122.220001                      28.139999   \n",
       "\n",
       "   word_counter  word_average_length  ...  system_average_cpu  \\\n",
       "0             2                  5.0  ...               13.03   \n",
       "1             2                 10.5  ...               17.50   \n",
       "2             3                  5.0  ...               19.73   \n",
       "\n",
       "   system_stddev_cpu  current_app_average_mem  current_app_stddev_mem  \\\n",
       "0              14.42                    11.07                    0.00   \n",
       "1               6.45                     1.44                    0.08   \n",
       "2               4.89                    11.66                    0.56   \n",
       "\n",
       "   system_average_mem  system_stddev_mem  received_bytes  sent_bytes  user  \\\n",
       "0                1.15               2.57       1618568.0    274869.0     0   \n",
       "1               12.71               0.97      14835273.0    449913.0     0   \n",
       "2               16.50               6.15       5097547.0    272460.0     0   \n",
       "\n",
       "                date_time  \n",
       "0 2019-11-20 13:44:15.128  \n",
       "1 2019-11-20 13:45:18.073  \n",
       "2 2019-11-20 13:46:18.881  \n",
       "\n",
       "[3 rows x 12052 columns]"
      ],
      "text/html": "<div>\n<style scoped>\n    .dataframe tbody tr th:only-of-type {\n        vertical-align: middle;\n    }\n\n    .dataframe tbody tr th {\n        vertical-align: top;\n    }\n\n    .dataframe thead th {\n        text-align: right;\n    }\n</style>\n<table border=\"1\" class=\"dataframe\">\n  <thead>\n    <tr style=\"text-align: right;\">\n      <th></th>\n      <th>timestamp</th>\n      <th>keystroke_counter</th>\n      <th>erase_keys_counter</th>\n      <th>erase_keys_percentage</th>\n      <th>press_press_average_interval</th>\n      <th>press_press_stddev_interval</th>\n      <th>press_release_average_interval</th>\n      <th>press_release_stddev_interval</th>\n      <th>word_counter</th>\n      <th>word_average_length</th>\n      <th>...</th>\n      <th>system_average_cpu</th>\n      <th>system_stddev_cpu</th>\n      <th>current_app_average_mem</th>\n      <th>current_app_stddev_mem</th>\n      <th>system_average_mem</th>\n      <th>system_stddev_mem</th>\n      <th>received_bytes</th>\n      <th>sent_bytes</th>\n      <th>user</th>\n      <th>date_time</th>\n    </tr>\n  </thead>\n  <tbody>\n    <tr>\n      <th>0</th>\n      <td>1.574257e+12</td>\n      <td>14</td>\n      <td>2</td>\n      <td>0.14</td>\n      <td>200.690002</td>\n      <td>165.470001</td>\n      <td>107.000000</td>\n      <td>36.450001</td>\n      <td>2</td>\n      <td>5.0</td>\n      <td>...</td>\n      <td>13.03</td>\n      <td>14.42</td>\n      <td>11.07</td>\n      <td>0.00</td>\n      <td>1.15</td>\n      <td>2.57</td>\n      <td>1618568.0</td>\n      <td>274869.0</td>\n      <td>0</td>\n      <td>2019-11-20 13:44:15.128</td>\n    </tr>\n    <tr>\n      <th>1</th>\n      <td>1.574258e+12</td>\n      <td>37</td>\n      <td>3</td>\n      <td>0.08</td>\n      <td>825.690002</td>\n      <td>1842.589966</td>\n      <td>132.679993</td>\n      <td>96.690002</td>\n      <td>2</td>\n      <td>10.5</td>\n      <td>...</td>\n      <td>17.50</td>\n      <td>6.45</td>\n      <td>1.44</td>\n      <td>0.08</td>\n      <td>12.71</td>\n      <td>0.97</td>\n      <td>14835273.0</td>\n      <td>449913.0</td>\n      <td>0</td>\n      <td>2019-11-20 13:45:18.073</td>\n    </tr>\n    <tr>\n      <th>2</th>\n      <td>1.574258e+12</td>\n      <td>24</td>\n      <td>0</td>\n      <td>0.00</td>\n      <td>2399.870117</td>\n      <td>5181.549805</td>\n      <td>122.220001</td>\n      <td>28.139999</td>\n      <td>3</td>\n      <td>5.0</td>\n      <td>...</td>\n      <td>19.73</td>\n      <td>4.89</td>\n      <td>11.66</td>\n      <td>0.56</td>\n      <td>16.50</td>\n      <td>6.15</td>\n      <td>5097547.0</td>\n      <td>272460.0</td>\n      <td>0</td>\n      <td>2019-11-20 13:46:18.881</td>\n    </tr>\n  </tbody>\n</table>\n<p>3 rows × 12052 columns</p>\n</div>"
     },
     "metadata": {},
     "execution_count": 65
    }
   ],
   "source": [
    "data_user.info()\n",
    "data_user[:3]"
   ]
  },
  {
   "cell_type": "code",
   "execution_count": null,
   "metadata": {},
   "outputs": [],
   "source": []
  }
 ]
}